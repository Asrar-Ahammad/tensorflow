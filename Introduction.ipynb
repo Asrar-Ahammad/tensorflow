{
 "cells": [
  {
   "cell_type": "code",
   "execution_count": 1,
   "id": "3bca0940",
   "metadata": {},
   "outputs": [],
   "source": [
    "import tensorflow as tf"
   ]
  },
  {
   "attachments": {},
   "cell_type": "markdown",
   "id": "cc88f2fd",
   "metadata": {},
   "source": [
    "# Declaring variables"
   ]
  },
  {
   "cell_type": "code",
   "execution_count": 2,
   "id": "a0b37065",
   "metadata": {},
   "outputs": [
    {
     "name": "stdout",
     "output_type": "stream",
     "text": [
      "Metal device set to: Apple M1\n",
      "\n",
      "systemMemory: 8.00 GB\n",
      "maxCacheSize: 2.67 GB\n",
      "\n"
     ]
    },
    {
     "name": "stderr",
     "output_type": "stream",
     "text": [
      "2022-12-14 19:48:32.546470: I tensorflow/core/common_runtime/pluggable_device/pluggable_device_factory.cc:306] Could not identify NUMA node of platform GPU ID 0, defaulting to 0. Your kernel may not have been built with NUMA support.\n",
      "2022-12-14 19:48:32.546586: I tensorflow/core/common_runtime/pluggable_device/pluggable_device_factory.cc:272] Created TensorFlow device (/job:localhost/replica:0/task:0/device:GPU:0 with 0 MB memory) -> physical PluggableDevice (device: 0, name: METAL, pci bus id: <undefined>)\n"
     ]
    }
   ],
   "source": [
    "# Declaring a variable\n",
    "# var_name = tf.Variable(<value>,tf.<datatype_name>)\n",
    "\n",
    "string = tf.Variable(\"This is a string\",tf.string)\n",
    "number = tf.Variable(123,tf.int64)\n",
    "floating  = tf.Variable(123.43,tf.float64) "
   ]
  },
  {
   "attachments": {},
   "cell_type": "markdown",
   "id": "91ff2051",
   "metadata": {},
   "source": [
    "# Ranking of tensors"
   ]
  },
  {
   "cell_type": "code",
   "execution_count": 3,
   "id": "714388db",
   "metadata": {},
   "outputs": [],
   "source": [
    "# Rank of a tensor displays the dimensions of tensor\n",
    "\n",
    "rank1_tensor = tf.Variable(['a','as'],tf.string)\n",
    "rank2_tensor = tf.Variable([['a','r','er'],['e','rt','ji'],['e','rt','ji']],tf.string)"
   ]
  },
  {
   "cell_type": "code",
   "execution_count": 4,
   "id": "12fed370",
   "metadata": {},
   "outputs": [
    {
     "data": {
      "text/plain": [
       "<tf.Tensor: shape=(), dtype=int32, numpy=2>"
      ]
     },
     "execution_count": 4,
     "metadata": {},
     "output_type": "execute_result"
    }
   ],
   "source": [
    "tf.rank(rank2_tensor)"
   ]
  },
  {
   "attachments": {},
   "cell_type": "markdown",
   "id": "1bec34e5",
   "metadata": {},
   "source": [
    "# Shapes of a tensor\n",
    "It shows amount of attributes in each dimension"
   ]
  },
  {
   "cell_type": "code",
   "execution_count": 5,
   "id": "cd30bc68",
   "metadata": {},
   "outputs": [
    {
     "data": {
      "text/plain": [
       "TensorShape([3, 3])"
      ]
     },
     "execution_count": 5,
     "metadata": {},
     "output_type": "execute_result"
    }
   ],
   "source": [
    "rank2_tensor.shape "
   ]
  },
  {
   "attachments": {},
   "cell_type": "markdown",
   "id": "4c77350e",
   "metadata": {},
   "source": [
    "Changing shape of tensor"
   ]
  },
  {
   "cell_type": "code",
   "execution_count": 6,
   "id": "5ce3eed3",
   "metadata": {},
   "outputs": [],
   "source": [
    "tensor1 = tf.ones([1,2,3])\n",
    "tensor2 = tf.reshape(tensor1,[2,3,1])\n",
    "tensor3 = tf.reshape(tensor2, [3,-1]) # -1 tells to calculate the size of the dimensions in the place .\n",
    "                                        #This will reshape the tensor to [3,3]\n",
    "                                        # The number of elements in reshape must match the original"
   ]
  },
  {
   "cell_type": "code",
   "execution_count": 7,
   "id": "e36e78e8",
   "metadata": {},
   "outputs": [
    {
     "name": "stdout",
     "output_type": "stream",
     "text": [
      "tf.Tensor(\n",
      "[[[1. 1. 1.]\n",
      "  [1. 1. 1.]]], shape=(1, 2, 3), dtype=float32)\n",
      "tf.Tensor(\n",
      "[[[1.]\n",
      "  [1.]\n",
      "  [1.]]\n",
      "\n",
      " [[1.]\n",
      "  [1.]\n",
      "  [1.]]], shape=(2, 3, 1), dtype=float32)\n",
      "tf.Tensor(\n",
      "[[1. 1.]\n",
      " [1. 1.]\n",
      " [1. 1.]], shape=(3, 2), dtype=float32)\n"
     ]
    }
   ],
   "source": [
    "print(tensor1)\n",
    "print(tensor2)\n",
    "print(tensor3)"
   ]
  },
  {
   "attachments": {},
   "cell_type": "markdown",
   "id": "d3f25b9a",
   "metadata": {},
   "source": [
    "# Types of tensors\n",
    "-> Constant\n",
    "-> Variable\n",
    "-> Placeholder\n",
    "-> SparceTensor. All the tensor value cannot be changed during execution except \"Variable\""
   ]
  },
  {
   "attachments": {},
   "cell_type": "markdown",
   "id": "689361c8",
   "metadata": {},
   "source": [
    "# Evaluating the tensors"
   ]
  },
  {
   "cell_type": "code",
   "execution_count": 8,
   "id": "21ed09e6",
   "metadata": {},
   "outputs": [],
   "source": [
    "with tf.Session() as secc: # Creates a session using default graph\n",
    "    tensor1.eval() #<tensor_name>.eval() "
   ]
  }
 ],
 "metadata": {
  "kernelspec": {
   "display_name": "tf",
   "language": "python",
   "name": "python3"
  },
  "language_info": {
   "codemirror_mode": {
    "name": "ipython",
    "version": 3
   },
   "file_extension": ".py",
   "mimetype": "text/x-python",
   "name": "python",
   "nbconvert_exporter": "python",
   "pygments_lexer": "ipython3",
   "version": "3.9.13"
  },
  "vscode": {
   "interpreter": {
    "hash": "e8eb31a79b989e5ecef8656d553d676e49a2a7657a190d7de51ecee6c5f0959a"
   }
  }
 },
 "nbformat": 4,
 "nbformat_minor": 5
}
